{
 "cells": [
  {
   "cell_type": "markdown",
   "metadata": {},
   "source": [
    "# Indah Kurnianda Ramadhani\n",
    "\n",
    "K-Nearest Neighbor Algorithm in Predicting The Success of Cryotherapy Treatment Method in The Treatment of Wart Disease"
   ]
  },
  {
   "cell_type": "code",
   "execution_count": 480,
   "metadata": {},
   "outputs": [],
   "source": [
    "import pandas as pd\n",
    "import matplotlib.pyplot as plt\n",
    "import numpy as np"
   ]
  },
  {
   "cell_type": "code",
   "execution_count": 481,
   "metadata": {},
   "outputs": [
    {
     "data": {
      "text/html": [
       "<div>\n",
       "<style scoped>\n",
       "    .dataframe tbody tr th:only-of-type {\n",
       "        vertical-align: middle;\n",
       "    }\n",
       "\n",
       "    .dataframe tbody tr th {\n",
       "        vertical-align: top;\n",
       "    }\n",
       "\n",
       "    .dataframe thead th {\n",
       "        text-align: right;\n",
       "    }\n",
       "</style>\n",
       "<table border=\"1\" class=\"dataframe\">\n",
       "  <thead>\n",
       "    <tr style=\"text-align: right;\">\n",
       "      <th></th>\n",
       "      <th>Sex</th>\n",
       "      <th>Age</th>\n",
       "      <th>Time</th>\n",
       "      <th>Number_of_Warts</th>\n",
       "      <th>Type</th>\n",
       "      <th>Area</th>\n",
       "      <th>Result_of_Treatment</th>\n",
       "    </tr>\n",
       "  </thead>\n",
       "  <tbody>\n",
       "    <tr>\n",
       "      <th>0</th>\n",
       "      <td>1</td>\n",
       "      <td>35</td>\n",
       "      <td>12.00</td>\n",
       "      <td>5</td>\n",
       "      <td>1</td>\n",
       "      <td>100</td>\n",
       "      <td>0</td>\n",
       "    </tr>\n",
       "    <tr>\n",
       "      <th>1</th>\n",
       "      <td>1</td>\n",
       "      <td>29</td>\n",
       "      <td>7.00</td>\n",
       "      <td>5</td>\n",
       "      <td>1</td>\n",
       "      <td>96</td>\n",
       "      <td>1</td>\n",
       "    </tr>\n",
       "    <tr>\n",
       "      <th>2</th>\n",
       "      <td>1</td>\n",
       "      <td>50</td>\n",
       "      <td>8.00</td>\n",
       "      <td>1</td>\n",
       "      <td>3</td>\n",
       "      <td>132</td>\n",
       "      <td>0</td>\n",
       "    </tr>\n",
       "    <tr>\n",
       "      <th>3</th>\n",
       "      <td>1</td>\n",
       "      <td>32</td>\n",
       "      <td>11.75</td>\n",
       "      <td>7</td>\n",
       "      <td>3</td>\n",
       "      <td>750</td>\n",
       "      <td>0</td>\n",
       "    </tr>\n",
       "    <tr>\n",
       "      <th>4</th>\n",
       "      <td>1</td>\n",
       "      <td>67</td>\n",
       "      <td>9.25</td>\n",
       "      <td>1</td>\n",
       "      <td>1</td>\n",
       "      <td>42</td>\n",
       "      <td>0</td>\n",
       "    </tr>\n",
       "  </tbody>\n",
       "</table>\n",
       "</div>"
      ],
      "text/plain": [
       "   Sex  Age   Time  Number_of_Warts  Type  Area  Result_of_Treatment\n",
       "0    1   35  12.00                5     1   100                    0\n",
       "1    1   29   7.00                5     1    96                    1\n",
       "2    1   50   8.00                1     3   132                    0\n",
       "3    1   32  11.75                7     3   750                    0\n",
       "4    1   67   9.25                1     1    42                    0"
      ]
     },
     "execution_count": 481,
     "metadata": {},
     "output_type": "execute_result"
    }
   ],
   "source": [
    "cryotherapy = pd.read_csv(\"cryotherapy_.txt\")\n",
    "cryotherapy.head()"
   ]
  },
  {
   "cell_type": "code",
   "execution_count": 482,
   "metadata": {
    "scrolled": true
   },
   "outputs": [
    {
     "name": "stdout",
     "output_type": "stream",
     "text": [
      "<class 'pandas.core.frame.DataFrame'>\n",
      "RangeIndex: 90 entries, 0 to 89\n",
      "Data columns (total 7 columns):\n",
      "Sex                    90 non-null int64\n",
      "Age                    90 non-null int64\n",
      "Time                   90 non-null float64\n",
      "Number_of_Warts        90 non-null int64\n",
      "Type                   90 non-null int64\n",
      "Area                   90 non-null int64\n",
      "Result_of_Treatment    90 non-null int64\n",
      "dtypes: float64(1), int64(6)\n",
      "memory usage: 5.0 KB\n"
     ]
    }
   ],
   "source": [
    "cryotherapy.info()"
   ]
  },
  {
   "cell_type": "code",
   "execution_count": 483,
   "metadata": {},
   "outputs": [
    {
     "data": {
      "text/html": [
       "<div>\n",
       "<style scoped>\n",
       "    .dataframe tbody tr th:only-of-type {\n",
       "        vertical-align: middle;\n",
       "    }\n",
       "\n",
       "    .dataframe tbody tr th {\n",
       "        vertical-align: top;\n",
       "    }\n",
       "\n",
       "    .dataframe thead th {\n",
       "        text-align: right;\n",
       "    }\n",
       "</style>\n",
       "<table border=\"1\" class=\"dataframe\">\n",
       "  <thead>\n",
       "    <tr style=\"text-align: right;\">\n",
       "      <th></th>\n",
       "      <th>Sex</th>\n",
       "      <th>Age</th>\n",
       "      <th>Time</th>\n",
       "      <th>Number_of_Warts</th>\n",
       "      <th>Type</th>\n",
       "      <th>Area</th>\n",
       "    </tr>\n",
       "  </thead>\n",
       "  <tbody>\n",
       "    <tr>\n",
       "      <th>0</th>\n",
       "      <td>1</td>\n",
       "      <td>35</td>\n",
       "      <td>12.00</td>\n",
       "      <td>5</td>\n",
       "      <td>1</td>\n",
       "      <td>100</td>\n",
       "    </tr>\n",
       "    <tr>\n",
       "      <th>1</th>\n",
       "      <td>1</td>\n",
       "      <td>29</td>\n",
       "      <td>7.00</td>\n",
       "      <td>5</td>\n",
       "      <td>1</td>\n",
       "      <td>96</td>\n",
       "    </tr>\n",
       "    <tr>\n",
       "      <th>2</th>\n",
       "      <td>1</td>\n",
       "      <td>50</td>\n",
       "      <td>8.00</td>\n",
       "      <td>1</td>\n",
       "      <td>3</td>\n",
       "      <td>132</td>\n",
       "    </tr>\n",
       "    <tr>\n",
       "      <th>3</th>\n",
       "      <td>1</td>\n",
       "      <td>32</td>\n",
       "      <td>11.75</td>\n",
       "      <td>7</td>\n",
       "      <td>3</td>\n",
       "      <td>750</td>\n",
       "    </tr>\n",
       "    <tr>\n",
       "      <th>4</th>\n",
       "      <td>1</td>\n",
       "      <td>67</td>\n",
       "      <td>9.25</td>\n",
       "      <td>1</td>\n",
       "      <td>1</td>\n",
       "      <td>42</td>\n",
       "    </tr>\n",
       "  </tbody>\n",
       "</table>\n",
       "</div>"
      ],
      "text/plain": [
       "   Sex  Age   Time  Number_of_Warts  Type  Area\n",
       "0    1   35  12.00                5     1   100\n",
       "1    1   29   7.00                5     1    96\n",
       "2    1   50   8.00                1     3   132\n",
       "3    1   32  11.75                7     3   750\n",
       "4    1   67   9.25                1     1    42"
      ]
     },
     "execution_count": 483,
     "metadata": {},
     "output_type": "execute_result"
    }
   ],
   "source": [
    "# Variabel independen\n",
    "x = cryotherapy.drop([\"Result_of_Treatment\"], axis = 1)\n",
    "x.head()"
   ]
  },
  {
   "cell_type": "code",
   "execution_count": 484,
   "metadata": {},
   "outputs": [
    {
     "data": {
      "text/plain": [
       "0    0\n",
       "1    1\n",
       "2    0\n",
       "3    0\n",
       "4    0\n",
       "Name: Result_of_Treatment, dtype: int64"
      ]
     },
     "execution_count": 484,
     "metadata": {},
     "output_type": "execute_result"
    }
   ],
   "source": [
    "# Variabel dependen\n",
    "y = cryotherapy[\"Result_of_Treatment\"]\n",
    "y.head()"
   ]
  },
  {
   "cell_type": "code",
   "execution_count": 485,
   "metadata": {},
   "outputs": [],
   "source": [
    "from sklearn.model_selection import train_test_split"
   ]
  },
  {
   "cell_type": "code",
   "execution_count": 486,
   "metadata": {},
   "outputs": [],
   "source": [
    "x_train, x_test, y_train, y_test = train_test_split(x, y, test_size = 0.2, random_state = 123)"
   ]
  },
  {
   "cell_type": "code",
   "execution_count": 487,
   "metadata": {},
   "outputs": [
    {
     "data": {
      "text/plain": [
       "60    1\n",
       "70    0\n",
       "29    1\n",
       "53    0\n",
       "86    1\n",
       "4     0\n",
       "31    1\n",
       "76    0\n",
       "75    1\n",
       "69    0\n",
       "33    0\n",
       "51    1\n",
       "8     1\n",
       "62    0\n",
       "82    1\n",
       "35    1\n",
       "28    0\n",
       "74    0\n",
       "Name: Result_of_Treatment, dtype: int64"
      ]
     },
     "execution_count": 487,
     "metadata": {},
     "output_type": "execute_result"
    }
   ],
   "source": [
    "y_test"
   ]
  },
  {
   "cell_type": "code",
   "execution_count": 488,
   "metadata": {},
   "outputs": [],
   "source": [
    "from sklearn.preprocessing import StandardScaler  \n",
    "scaler = StandardScaler()  \n",
    "scaler.fit(x_train)\n",
    "\n",
    "x_train = scaler.transform(x_train)  \n",
    "x_test = scaler.transform(x_test)"
   ]
  },
  {
   "cell_type": "markdown",
   "metadata": {},
   "source": [
    "## Klasifikasi: K-Nearest Neighbor"
   ]
  },
  {
   "cell_type": "code",
   "execution_count": 489,
   "metadata": {},
   "outputs": [],
   "source": [
    "from sklearn.neighbors import KNeighborsClassifier"
   ]
  },
  {
   "cell_type": "code",
   "execution_count": 490,
   "metadata": {},
   "outputs": [],
   "source": [
    "Classifier = KNeighborsClassifier(n_neighbors=8)"
   ]
  },
  {
   "cell_type": "code",
   "execution_count": 491,
   "metadata": {},
   "outputs": [
    {
     "data": {
      "text/plain": [
       "KNeighborsClassifier(algorithm='auto', leaf_size=30, metric='minkowski',\n",
       "           metric_params=None, n_jobs=1, n_neighbors=8, p=2,\n",
       "           weights='uniform')"
      ]
     },
     "execution_count": 491,
     "metadata": {},
     "output_type": "execute_result"
    }
   ],
   "source": [
    "Classifier.fit(x_train, y_train)"
   ]
  },
  {
   "cell_type": "code",
   "execution_count": 492,
   "metadata": {},
   "outputs": [
    {
     "data": {
      "text/plain": [
       "array([1, 0, 1, 0, 1, 0, 1, 0, 1, 0, 0, 0, 1, 0, 1, 0, 0, 1], dtype=int64)"
      ]
     },
     "execution_count": 492,
     "metadata": {},
     "output_type": "execute_result"
    }
   ],
   "source": [
    "y_pred = Classifier.predict(x_test) \n",
    "y_pred"
   ]
  },
  {
   "cell_type": "code",
   "execution_count": 493,
   "metadata": {},
   "outputs": [
    {
     "data": {
      "text/plain": [
       "array([[0.25 , 0.75 ],\n",
       "       [0.75 , 0.25 ],\n",
       "       [0.25 , 0.75 ],\n",
       "       [0.875, 0.125],\n",
       "       [0.   , 1.   ],\n",
       "       [0.875, 0.125],\n",
       "       [0.25 , 0.75 ],\n",
       "       [0.75 , 0.25 ],\n",
       "       [0.   , 1.   ],\n",
       "       [0.75 , 0.25 ],\n",
       "       [1.   , 0.   ],\n",
       "       [0.5  , 0.5  ],\n",
       "       [0.   , 1.   ],\n",
       "       [0.875, 0.125],\n",
       "       [0.125, 0.875],\n",
       "       [0.875, 0.125],\n",
       "       [0.875, 0.125],\n",
       "       [0.125, 0.875]])"
      ]
     },
     "execution_count": 493,
     "metadata": {},
     "output_type": "execute_result"
    }
   ],
   "source": [
    "Classifier.predict_proba(x_test)"
   ]
  },
  {
   "cell_type": "markdown",
   "metadata": {},
   "source": [
    "## Confusion Matrix"
   ]
  },
  {
   "cell_type": "code",
   "execution_count": 494,
   "metadata": {},
   "outputs": [],
   "source": [
    "from sklearn.metrics import classification_report, confusion_matrix"
   ]
  },
  {
   "cell_type": "code",
   "execution_count": 495,
   "metadata": {},
   "outputs": [
    {
     "name": "stdout",
     "output_type": "stream",
     "text": [
      "[[8 1]\n",
      " [2 7]]\n"
     ]
    }
   ],
   "source": [
    "print(confusion_matrix(y_test, y_pred))"
   ]
  },
  {
   "cell_type": "code",
   "execution_count": 496,
   "metadata": {},
   "outputs": [],
   "source": [
    "y_actual = pd.Series([1, 0, 1, 0, 1, 0, 1, 0, 1, 0, 0, 1, 1, 0, 1, 1, 0, 0], name = \"actual\")\n",
    "y_pred = pd.Series([1, 0, 1, 0, 1, 0, 1, 0, 1, 0, 0, 0, 1, 0, 1, 0, 0, 1], name = \"prediction\")"
   ]
  },
  {
   "cell_type": "code",
   "execution_count": 497,
   "metadata": {},
   "outputs": [
    {
     "data": {
      "text/html": [
       "<div>\n",
       "<style scoped>\n",
       "    .dataframe tbody tr th:only-of-type {\n",
       "        vertical-align: middle;\n",
       "    }\n",
       "\n",
       "    .dataframe tbody tr th {\n",
       "        vertical-align: top;\n",
       "    }\n",
       "\n",
       "    .dataframe thead th {\n",
       "        text-align: right;\n",
       "    }\n",
       "</style>\n",
       "<table border=\"1\" class=\"dataframe\">\n",
       "  <thead>\n",
       "    <tr style=\"text-align: right;\">\n",
       "      <th>prediction</th>\n",
       "      <th>0</th>\n",
       "      <th>1</th>\n",
       "    </tr>\n",
       "    <tr>\n",
       "      <th>actual</th>\n",
       "      <th></th>\n",
       "      <th></th>\n",
       "    </tr>\n",
       "  </thead>\n",
       "  <tbody>\n",
       "    <tr>\n",
       "      <th>0</th>\n",
       "      <td>8</td>\n",
       "      <td>1</td>\n",
       "    </tr>\n",
       "    <tr>\n",
       "      <th>1</th>\n",
       "      <td>2</td>\n",
       "      <td>7</td>\n",
       "    </tr>\n",
       "  </tbody>\n",
       "</table>\n",
       "</div>"
      ],
      "text/plain": [
       "prediction  0  1\n",
       "actual          \n",
       "0           8  1\n",
       "1           2  7"
      ]
     },
     "execution_count": 497,
     "metadata": {},
     "output_type": "execute_result"
    }
   ],
   "source": [
    "df_confusion = pd.crosstab(y_actual, y_pred)\n",
    "df_confusion"
   ]
  },
  {
   "cell_type": "code",
   "execution_count": 498,
   "metadata": {},
   "outputs": [],
   "source": [
    "from sklearn.metrics import classification_report"
   ]
  },
  {
   "cell_type": "code",
   "execution_count": 499,
   "metadata": {},
   "outputs": [
    {
     "name": "stdout",
     "output_type": "stream",
     "text": [
      "             precision    recall  f1-score   support\n",
      "\n",
      "          0       0.80      0.89      0.84         9\n",
      "          1       0.88      0.78      0.82         9\n",
      "\n",
      "avg / total       0.84      0.83      0.83        18\n",
      "\n"
     ]
    }
   ],
   "source": [
    "print(classification_report(y_test, y_pred))"
   ]
  },
  {
   "cell_type": "code",
   "execution_count": 500,
   "metadata": {},
   "outputs": [
    {
     "data": {
      "text/plain": [
       "0.8333333333333334"
      ]
     },
     "execution_count": 500,
     "metadata": {},
     "output_type": "execute_result"
    }
   ],
   "source": [
    "Accuracy = (8+7)/18\n",
    "Accuracy"
   ]
  },
  {
   "cell_type": "code",
   "execution_count": 501,
   "metadata": {},
   "outputs": [],
   "source": [
    "from pycm import*"
   ]
  },
  {
   "cell_type": "code",
   "execution_count": 502,
   "metadata": {},
   "outputs": [],
   "source": [
    "y_actual1=[1,0,1,0,1,0,1,0,1,0,0,1,1,0,1,1,0,0]\n",
    "y_pred1=[1,0,1,0,1,0,1,0,1,0,0,0,1,0,1,0,0,1]"
   ]
  },
  {
   "cell_type": "code",
   "execution_count": 503,
   "metadata": {},
   "outputs": [
    {
     "name": "stdout",
     "output_type": "stream",
     "text": [
      "Predict          0    1    \n",
      "Actual\n",
      "0                8    1    \n",
      "\n",
      "1                2    7    \n",
      "\n",
      "\n",
      "\n",
      "\n",
      "\n",
      "Overall Statistics : \n",
      "\n",
      "95% CI                                                           (0.66116,1.0055)\n",
      "AUNP                                                             0.83333\n",
      "AUNU                                                             0.83333\n",
      "Bennett S                                                        0.66667\n",
      "CBA                                                              0.78889\n",
      "Chi-Squared                                                      8.1\n",
      "Chi-Squared DF                                                   1\n",
      "Conditional Entropy                                              0.63373\n",
      "Cramer V                                                         0.67082\n",
      "Cross Entropy                                                    1.00896\n",
      "Gwet AC1                                                         0.66769\n",
      "Hamming Loss                                                     0.16667\n",
      "Joint Entropy                                                    1.63373\n",
      "KL Divergence                                                    0.00896\n",
      "Kappa                                                            0.66667\n",
      "Kappa 95% CI                                                     (0.32233,1.011)\n",
      "Kappa No Prevalence                                              0.66667\n",
      "Kappa Standard Error                                             0.17568\n",
      "Kappa Unbiased                                                   0.66563\n",
      "Lambda A                                                         0.66667\n",
      "Lambda B                                                         0.625\n",
      "Mutual Information                                               0.35734\n",
      "NIR                                                              0.5\n",
      "Overall ACC                                                      0.83333\n",
      "Overall CEN                                                      0.5835\n",
      "Overall J                                                        (1.42727,0.71364)\n",
      "Overall MCC                                                      0.67082\n",
      "Overall MCEN                                                     0.454\n",
      "Overall RACC                                                     0.5\n",
      "Overall RACCU                                                    0.50154\n",
      "P-Value                                                          0.00377\n",
      "PPV Macro                                                        0.8375\n",
      "PPV Micro                                                        0.83333\n",
      "Phi-Squared                                                      0.45\n",
      "RCI                                                              0.35734\n",
      "RR                                                               9.0\n",
      "Reference Entropy                                                1.0\n",
      "Response Entropy                                                 0.99108\n",
      "SOA1(Landis & Koch)                                              Substantial\n",
      "SOA2(Fleiss)                                                     Intermediate to Good\n",
      "SOA3(Altman)                                                     Good\n",
      "SOA4(Cicchetti)                                                  Good\n",
      "Scott PI                                                         0.66563\n",
      "Standard Error                                                   0.08784\n",
      "TPR Macro                                                        0.83333\n",
      "TPR Micro                                                        0.83333\n",
      "Zero-one Loss                                                    3\n",
      "\n",
      "Class Statistics :\n",
      "\n",
      "Classes                                                          0                       1                       \n",
      "ACC(Accuracy)                                                    0.83333                 0.83333                 \n",
      "AUC(Area under the roc curve)                                    0.83333                 0.83333                 \n",
      "AUCI(Auc value interpretation)                                   Very Good               Very Good               \n",
      "BM(Informedness or bookmaker informedness)                       0.66667                 0.66667                 \n",
      "CEN(Confusion entropy)                                           0.56546                 0.60367                 \n",
      "DOR(Diagnostic odds ratio)                                       28.0                    28.0                    \n",
      "DP(Discriminant power)                                           0.79786                 0.79786                 \n",
      "DPI(Discriminant power interpretation)                           Poor                    Poor                    \n",
      "ERR(Error rate)                                                  0.16667                 0.16667                 \n",
      "F0.5(F0.5 score)                                                 0.81633                 0.85366                 \n",
      "F1(F1 score - harmonic mean of precision and sensitivity)        0.84211                 0.82353                 \n",
      "F2(F2 score)                                                     0.86957                 0.79545                 \n",
      "FDR(False discovery rate)                                        0.2                     0.125                   \n",
      "FN(False negative/miss/type 2 error)                             1                       2                       \n",
      "FNR(Miss rate or false negative rate)                            0.11111                 0.22222                 \n",
      "FOR(False omission rate)                                         0.125                   0.2                     \n",
      "FP(False positive/type 1 error/false alarm)                      2                       1                       \n",
      "FPR(Fall-out or false positive rate)                             0.22222                 0.11111                 \n",
      "G(G-measure geometric mean of precision and sensitivity)         0.84327                 0.82496                 \n",
      "GI(Gini index)                                                   0.66667                 0.66667                 \n",
      "IS(Information score)                                            0.67807                 0.80735                 \n",
      "J(Jaccard index)                                                 0.72727                 0.7                     \n",
      "MCC(Matthews correlation coefficient)                            0.67082                 0.67082                 \n",
      "MCEN(Modified confusion entropy)                                 0.76166                 0.79658                 \n",
      "MK(Markedness)                                                   0.675                   0.675                   \n",
      "N(Condition negative)                                            9                       9                       \n",
      "NLR(Negative likelihood ratio)                                   0.14286                 0.25                    \n",
      "NPV(Negative predictive value)                                   0.875                   0.8                     \n",
      "P(Condition positive or support)                                 9                       9                       \n",
      "PLR(Positive likelihood ratio)                                   4.0                     7.0                     \n",
      "PLRI(Positive likelihood ratio interpretation)                   Poor                    Fair                    \n",
      "POP(Population)                                                  18                      18                      \n",
      "PPV(Precision or positive predictive value)                      0.8                     0.875                   \n",
      "PRE(Prevalence)                                                  0.5                     0.5                     \n",
      "RACC(Random accuracy)                                            0.27778                 0.22222                 \n",
      "RACCU(Random accuracy unbiased)                                  0.27855                 0.22299                 \n",
      "TN(True negative/correct rejection)                              7                       8                       \n",
      "TNR(Specificity or true negative rate)                           0.77778                 0.88889                 \n",
      "TON(Test outcome negative)                                       8                       10                      \n",
      "TOP(Test outcome positive)                                       10                      8                       \n",
      "TP(True positive/hit)                                            8                       7                       \n",
      "TPR(Sensitivity, recall, hit rate, or true positive rate)        0.88889                 0.77778                 \n",
      "Y(Youden index)                                                  0.66667                 0.66667                 \n",
      "dInd(Distance index)                                             0.24845                 0.24845                 \n",
      "sInd(Similarity index)                                           0.82432                 0.82432                 \n",
      "\n"
     ]
    }
   ],
   "source": [
    "print(ConfusionMatrix(y_actual1, y_pred1))"
   ]
  }
 ],
 "metadata": {
  "kernelspec": {
   "display_name": "Python 3",
   "language": "python",
   "name": "python3"
  },
  "language_info": {
   "codemirror_mode": {
    "name": "ipython",
    "version": 3
   },
   "file_extension": ".py",
   "mimetype": "text/x-python",
   "name": "python",
   "nbconvert_exporter": "python",
   "pygments_lexer": "ipython3",
   "version": "3.7.0"
  }
 },
 "nbformat": 4,
 "nbformat_minor": 2
}
